{
 "cells": [
  {
   "cell_type": "markdown",
   "id": "0a9f7a99",
   "metadata": {},
   "source": [
    "# Embedding Power BI in Jupyter Notebook"
   ]
  },
  {
   "cell_type": "markdown",
   "id": "abb3e329",
   "metadata": {},
   "source": [
    "### Importing Packages"
   ]
  },
  {
   "cell_type": "code",
   "execution_count": 2,
   "id": "feadeb96",
   "metadata": {},
   "outputs": [],
   "source": [
    "from powerbiclient import Report, models, authentication\n",
    "from io import StringIO\n",
    "from ipywidgets import interact\n",
    "from powerbiclient import QuickVisualize, get_dataset_config\n",
    "from powerbiclient.authentication import DeviceCodeLoginAuthentication\n",
    "from powerbiclient.authentication import InteractiveLoginAuthentication\n",
    "import pandas as pd\n",
    "import pymysql"
   ]
  },
  {
   "cell_type": "markdown",
   "id": "0d775254",
   "metadata": {},
   "source": [
    "### PBI Login Authentication"
   ]
  },
  {
   "cell_type": "code",
   "execution_count": 3,
   "id": "34098980",
   "metadata": {},
   "outputs": [
    {
     "name": "stdout",
     "output_type": "stream",
     "text": [
      "A local browser window will open for interactive sign in.\n",
      "\n",
      "Interactive authentication successfully completed.\n",
      "You are now logged in.\n",
      "\n",
      "The result should be passed only to trusted code in your notebook.\n"
     ]
    }
   ],
   "source": [
    "auth = authentication.InteractiveLoginAuthentication()\n",
    "\n",
    "### alternative authentication, if you want to get the access token:\n",
    "# device_auth = DeviceCodeLoginAuthentication()\n",
    "# access_token = device_auth.get_access_token()"
   ]
  },
  {
   "cell_type": "markdown",
   "id": "37037fae",
   "metadata": {},
   "source": [
    "### Choosing the report"
   ]
  },
  {
   "cell_type": "code",
   "execution_count": 4,
   "id": "65fd6f17",
   "metadata": {},
   "outputs": [],
   "source": [
    "## The group and report IDs below can be found from the URL of your Power BI report. Replace the values down below.\n",
    "\n",
    "group_id=\"<Your report's workspace ID>\"\n",
    "report_id=\"<Your report's ID>\"\n",
    "report = Report(report_id=report_id, group_id=group_id, auth=auth)"
   ]
  },
  {
   "cell_type": "code",
   "execution_count": 5,
   "id": "947a2fc4",
   "metadata": {
    "scrolled": true
   },
   "outputs": [
    {
     "data": {
      "application/vnd.jupyter.widget-view+json": {
       "model_id": "3e5f6cf93d994b5e9c867a5c35019634",
       "version_major": 2,
       "version_minor": 0
      },
      "text/plain": [
       "Report()"
      ]
     },
     "metadata": {},
     "output_type": "display_data"
    }
   ],
   "source": [
    "report"
   ]
  },
  {
   "cell_type": "markdown",
   "id": "1bfa44d5",
   "metadata": {},
   "source": [
    "### Getting data from the report"
   ]
  },
  {
   "cell_type": "code",
   "execution_count": 16,
   "id": "123dace3",
   "metadata": {},
     "execution_count": 16,
     "metadata": {},
     "output_type": "execute_result"
    }
   ],
   "source": [
    "## Getting all pages from the report, both visible and hidden\n",
    "\n",
    "pages = report.get_pages()\n",
    "page_name=pages[0][\"name\"]\n",
    "pages"
   ]
  },
  {
   "cell_type": "code",
   "execution_count": 17,
   "id": "4f92c947",
   "metadata": {},
     "execution_count": 17,
     "metadata": {},
     "output_type": "execute_result"
    }
   ],
   "source": [
    "## Getting all the visuals from a specific page.\n",
    "## Copy the \"name\" field value of the page of choice from the results above to replace below as the page name.\n",
    "\n",
    "visuals = report.visuals_on_page('<page name>')\n",
    "visual_name=visuals[0][\"name\"]\n",
    "visuals"
   ]
  },
  {
   "cell_type": "code",
   "execution_count": 19,
   "id": "512ca642",
   "metadata": {},
     "execution_count": 19,
     "metadata": {},
     "output_type": "execute_result"
    }
   ],
   "source": [
    "## Exporting the data into a pandas df from the visual, by stating the page name and the visual name in the parameters below:\n",
    "\n",
    "exported_data = report.export_visual_data('ReportSection7bb3ffd506071ce60c7e', '631f9d940e1ec371d893')\n",
    "exported_data=StringIO(exported_data)\n",
    "df=pd.read_csv(exported_data,sep=',')\n",
    "\n",
    "print(df.head(5))"
   ]
  }
 ],
 "metadata": {
  "kernelspec": {
   "display_name": "Python 3 (ipykernel)",
   "language": "python",
   "name": "python3"
  },
  "language_info": {
   "codemirror_mode": {
    "name": "ipython",
    "version": 3
   },
   "file_extension": ".py",
   "mimetype": "text/x-python",
   "name": "python",
   "nbconvert_exporter": "python",
   "pygments_lexer": "ipython3",
   "version": "3.9.13"
  }
 },
 "nbformat": 4,
 "nbformat_minor": 5
}
