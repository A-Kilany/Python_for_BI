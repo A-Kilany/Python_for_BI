{
 "cells": [
  {
   "cell_type": "markdown",
   "id": "014587f0",
   "metadata": {},
   "source": [
    "# Embedding Power BI in Jupyter Notebook"
   ]
  },
  {
   "cell_type": "markdown",
   "id": "7436f9b9",
   "metadata": {},
   "source": [
    "### Importing Packages"
   ]
  },
  {
   "cell_type": "code",
   "execution_count": null,
   "id": "4722c1f9",
   "metadata": {},
   "outputs": [],
   "source": [
    "from powerbiclient import Report, models, authentication\n",
    "from io import StringIO\n",
    "from ipywidgets import interact\n",
    "from powerbiclient import QuickVisualize, get_dataset_config\n",
    "from powerbiclient.authentication import DeviceCodeLoginAuthentication\n",
    "from powerbiclient.authentication import InteractiveLoginAuthentication\n",
    "import pandas as pd"
   ]
  },
  {
   "cell_type": "markdown",
   "id": "e208fd9c",
   "metadata": {},
   "source": [
    "### PBI Login Authentication"
   ]
  },
  {
   "cell_type": "code",
   "execution_count": null,
   "id": "fbc3ed09",
   "metadata": {},
   "outputs": [],
   "source": [
    "auth = authentication.InteractiveLoginAuthentication()\n",
    "\n",
    "### alternative authentication, if you want to get the access token:\n",
    "# device_auth = DeviceCodeLoginAuthentication()\n",
    "# access_token = device_auth.get_access_token()"
   ]
  },
  {
   "cell_type": "markdown",
   "id": "37b1f0e7",
   "metadata": {},
   "source": [
    "### Choosing the report"
   ]
  },
  {
   "cell_type": "code",
   "execution_count": null,
   "id": "c1806814",
   "metadata": {},
   "outputs": [],
   "source": [
    "## The group and report IDs below can be found from the URL of your Power BI report. Replace the values down below.\n",
    "\n",
    "group_id=\"<Your report's workspace ID>\"\n",
    "report_id=\"<Your report's ID>\"\n",
    "report = Report(report_id=report_id, group_id=group_id, auth=auth)\n",
    "report"
   ]
  },
  {
   "cell_type": "markdown",
   "id": "6351fd0f",
   "metadata": {},
   "source": [
    "### Getting data from the report"
   ]
  },
  {
   "cell_type": "code",
   "execution_count": null,
   "id": "233f542a",
   "metadata": {},
   "outputs": [],
   "source": [
    "## Getting all pages from the report, both visible and hidden\n",
    "\n",
    "pages = report.get_pages()\n",
    "page_name=pages[0][\"name\"]\n",
    "pages"
   ]
  },
  {
   "cell_type": "code",
   "execution_count": null,
   "id": "eface274",
   "metadata": {},
   "outputs": [],
   "source": [
    "## Getting all the visuals from a specific page.\n",
    "## Copy the \"name\" field value of the page of choice from the results above to replace below as the page name.\n",
    "\n",
    "visuals = report.visuals_on_page('<page name>')\n",
    "visual_name=visuals[0][\"name\"]\n",
    "visuals"
   ]
  },
  {
   "cell_type": "markdown",
   "id": "44f9f900",
   "metadata": {},
   "source": [
    "### Creating a df frome a visual of choice"
   ]
  },
  {
   "cell_type": "code",
   "execution_count": null,
   "id": "26266537",
   "metadata": {},
   "outputs": [],
   "source": [
    "## Exporting the data into a pandas df from the visual, by stating the page name and the visual name in the parameters below:\n",
    "\n",
    "exported_data = report.export_visual_data('ReportSection7bb3ffd506071ce60c7e', '631f9d940e1ec371d893')\n",
    "exported_data=StringIO(exported_data)\n",
    "df=pd.read_csv(exported_data,sep=',')\n",
    "\n",
    "print(df.head(5))"
   ]
  }
 ],
 "metadata": {
  "kernelspec": {
   "display_name": "Python 3 (ipykernel)",
   "language": "python",
   "name": "python3"
  },
  "language_info": {
   "codemirror_mode": {
    "name": "ipython",
    "version": 3
   },
   "file_extension": ".py",
   "mimetype": "text/x-python",
   "name": "python",
   "nbconvert_exporter": "python",
   "pygments_lexer": "ipython3",
   "version": "3.9.13"
  }
 },
 "nbformat": 4,
 "nbformat_minor": 5
}
