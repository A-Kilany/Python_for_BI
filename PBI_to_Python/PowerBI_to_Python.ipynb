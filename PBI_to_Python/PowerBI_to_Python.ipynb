{
 "cells": [
  {
   "cell_type": "markdown",
   "id": "0a9f7a99",
   "metadata": {},
   "source": [
    "# Embedding Power BI in Jupyter Notebook"
   ]
  },
  {
   "cell_type": "markdown",
   "id": "abb3e329",
   "metadata": {},
   "source": [
    "### Importing Packages"
   ]
  },
  {
   "cell_type": "code",
   "execution_count": 2,
   "id": "feadeb96",
   "metadata": {},
   "outputs": [],
   "source": [
    "from powerbiclient import Report, models, authentication\n",
    "from io import StringIO\n",
    "from ipywidgets import interact\n",
    "from powerbiclient import QuickVisualize, get_dataset_config\n",
    "from powerbiclient.authentication import DeviceCodeLoginAuthentication\n",
    "from powerbiclient.authentication import InteractiveLoginAuthentication\n",
    "import pandas as pd\n",
    "import pymysql"
   ]
  },
  {
   "cell_type": "markdown",
   "id": "0d775254",
   "metadata": {},
   "source": [
    "### PBI Login Authentication"
   ]
  },
  {
   "cell_type": "code",
   "execution_count": 3,
   "id": "34098980",
   "metadata": {},
   "outputs": [
    {
     "name": "stdout",
     "output_type": "stream",
     "text": [
      "A local browser window will open for interactive sign in.\n",
      "\n",
      "Interactive authentication successfully completed.\n",
      "You are now logged in.\n",
      "\n",
      "The result should be passed only to trusted code in your notebook.\n"
     ]
    }
   ],
   "source": [
    "auth = authentication.InteractiveLoginAuthentication()\n",
    "\n",
    "### alternative authentication, if you want to get the access token:\n",
    "# device_auth = DeviceCodeLoginAuthentication()\n",
    "# access_token = device_auth.get_access_token()"
   ]
  },
  {
   "cell_type": "markdown",
   "id": "37037fae",
   "metadata": {},
   "source": [
    "### Choosing the report"
   ]
  },
  {
   "cell_type": "code",
   "execution_count": 4,
   "id": "65fd6f17",
   "metadata": {},
   "outputs": [],
   "source": [
    "## The group and report IDs below are related to the report \"HRL Stock\"\n",
    "\n",
    "group_id=\"cc8836e8-04e0-4714-8920-5a695a0eac0f\"\n",
    "report_id=\"5dbda1ea-adf8-4fad-bcfe-8d2d1733f9fd\"\n",
    "report = Report(report_id=report_id, group_id=group_id, auth=auth)"
   ]
  },
  {
   "cell_type": "code",
   "execution_count": 5,
   "id": "947a2fc4",
   "metadata": {
    "scrolled": true
   },
   "outputs": [
    {
     "data": {
      "application/vnd.jupyter.widget-view+json": {
       "model_id": "3e5f6cf93d994b5e9c867a5c35019634",
       "version_major": 2,
       "version_minor": 0
      },
      "text/plain": [
       "Report()"
      ]
     },
     "metadata": {},
     "output_type": "display_data"
    }
   ],
   "source": [
    "report"
   ]
  },
  {
   "cell_type": "markdown",
   "id": "1bfa44d5",
   "metadata": {},
   "source": [
    "### Getting data from the report"
   ]
  },
  {
   "cell_type": "code",
   "execution_count": 6,
   "id": "123dace3",
   "metadata": {},
   "outputs": [
    {
     "data": {
      "text/plain": [
       "[{'name': 'ReportSection7bb3ffd506071ce60c7e',\n",
       "  'displayName': 'Planung',\n",
       "  'isActive': False,\n",
       "  'visibility': 0,\n",
       "  'defaultSize': {'type': 0, 'width': 1280, 'height': 720},\n",
       "  'mobileSize': None,\n",
       "  'defaultDisplayOption': 0,\n",
       "  'background': None,\n",
       "  'wallpaper': None},\n",
       " {'name': 'ReportSection378e1f23795ec688bd6f',\n",
       "  'displayName': 'HRL Bestand',\n",
       "  'isActive': False,\n",
       "  'visibility': 0,\n",
       "  'defaultSize': {'type': 0, 'width': 1280, 'height': 720},\n",
       "  'mobileSize': None,\n",
       "  'defaultDisplayOption': 0,\n",
       "  'background': None,\n",
       "  'wallpaper': None},\n",
       " {'name': 'ReportSectionb8d566340b4ccaca98bd',\n",
       "  'displayName': 'Prio im HRL',\n",
       "  'isActive': True,\n",
       "  'visibility': 0,\n",
       "  'defaultSize': {'type': 0, 'width': 1280, 'height': 720},\n",
       "  'mobileSize': None,\n",
       "  'defaultDisplayOption': 0,\n",
       "  'background': {'color': '#FFFFFF', 'transparency': 0, 'hasImage': True},\n",
       "  'wallpaper': {'color': '#FFFFFF', 'transparency': 0, 'hasImage': False}},\n",
       " {'name': 'ReportSection',\n",
       "  'displayName': 'Inbound Report',\n",
       "  'isActive': False,\n",
       "  'visibility': 0,\n",
       "  'defaultSize': {'type': 0, 'width': 1280, 'height': 720},\n",
       "  'mobileSize': None,\n",
       "  'defaultDisplayOption': 0,\n",
       "  'background': None,\n",
       "  'wallpaper': None},\n",
       " {'name': 'ReportSectionbdac01be4be6665e3d72',\n",
       "  'displayName': 'Tooltip',\n",
       "  'isActive': False,\n",
       "  'visibility': 1,\n",
       "  'defaultSize': {'width': 320, 'height': 240},\n",
       "  'mobileSize': None,\n",
       "  'defaultDisplayOption': 2,\n",
       "  'background': None,\n",
       "  'wallpaper': None},\n",
       " {'name': 'ReportSection5715470c0b919ad35b74',\n",
       "  'displayName': 'Tooltip 2',\n",
       "  'isActive': False,\n",
       "  'visibility': 1,\n",
       "  'defaultSize': {'width': 320, 'height': 240},\n",
       "  'mobileSize': None,\n",
       "  'defaultDisplayOption': 2,\n",
       "  'background': None,\n",
       "  'wallpaper': None},\n",
       " {'name': 'ReportSection120f7e07cd56767d7bd0',\n",
       "  'displayName': 'Tooltip 3',\n",
       "  'isActive': False,\n",
       "  'visibility': 1,\n",
       "  'defaultSize': {'type': 4, 'width': 480, 'height': 320},\n",
       "  'mobileSize': None,\n",
       "  'defaultDisplayOption': 2,\n",
       "  'background': None,\n",
       "  'wallpaper': None},\n",
       " {'name': 'ReportSectiona0e7047feb08e03a5e05',\n",
       "  'displayName': 'Tooltip 4',\n",
       "  'isActive': False,\n",
       "  'visibility': 1,\n",
       "  'defaultSize': {'type': 4, 'width': 960, 'height': 320},\n",
       "  'mobileSize': None,\n",
       "  'defaultDisplayOption': 2,\n",
       "  'background': None,\n",
       "  'wallpaper': None}]"
      ]
     },
     "execution_count": 6,
     "metadata": {},
     "output_type": "execute_result"
    }
   ],
   "source": [
    "## Get all pages from the report, both visible and hidden\n",
    "\n",
    "pages = report.get_pages()\n",
    "page_name=pages[0][\"name\"]\n",
    "pages"
   ]
  },
  {
   "cell_type": "code",
   "execution_count": 9,
   "id": "4f92c947",
   "metadata": {},
   "outputs": [
    {
     "data": {
      "text/plain": [
       "[{'name': '851f82c7c046dfeeb949',\n",
       "  'title': 'Power Automate for Power BI',\n",
       "  'type': 'FlowVisual_C29F1DCC_81F5_4973_94AD_0517D44CC06A',\n",
       "  'layout': {'x': 1106.3474524248004,\n",
       "   'y': 20.115408225905462,\n",
       "   'z': 7000,\n",
       "   'width': 148.85402087170044,\n",
       "   'height': 56.3231430325353,\n",
       "   'displayState': {'mode': 0}}},\n",
       " {'name': 'f982fb2cc53f31282e4e',\n",
       "  'title': 'Card',\n",
       "  'type': 'card',\n",
       "  'layout': {'x': 1001.7415592376881,\n",
       "   'y': 22.126949047387274,\n",
       "   'z': 6000,\n",
       "   'width': 78.89196675900277,\n",
       "   'height': 52.29916897506925,\n",
       "   'displayState': {'mode': 0}}},\n",
       " {'name': '3b0a4dbdc23acdf9756e',\n",
       "  'title': 'Card',\n",
       "  'type': 'card',\n",
       "  'layout': {'x': 908.6667669939208,\n",
       "   'y': 22.126949047387274,\n",
       "   'z': 5000,\n",
       "   'width': 78.89196675900277,\n",
       "   'height': 52.29916897506925,\n",
       "   'displayState': {'mode': 0}}},\n",
       " {'name': '8f41ac183c6adb4146b2',\n",
       "  'title': 'Text box',\n",
       "  'type': 'textbox',\n",
       "  'layout': {'x': 21.121178637200735,\n",
       "   'y': 17.098096992019645,\n",
       "   'z': 4000,\n",
       "   'width': 280.6099447513812,\n",
       "   'height': 53.30583179864948,\n",
       "   'displayState': {'mode': 0}}},\n",
       " {'name': '050f94164c44f844fb1a',\n",
       "  'title': 'Smart Filter by OKVIZ',\n",
       "  'type': 'SmartFilterBySQLBI1458262140625',\n",
       "  'layout': {'x': 313.8003683241252,\n",
       "   'y': 15.086556169429098,\n",
       "   'z': 2000,\n",
       "   'width': 229.3156537753223,\n",
       "   'height': 270.5522406384285,\n",
       "   'displayState': {'mode': 0}}},\n",
       " {'name': 'e566bda460514bf1b7f2',\n",
       "  'title': 'Slicer',\n",
       "  'type': 'slicer',\n",
       "  'layout': {'x': 21.121178637200735,\n",
       "   'y': 478.74671577655005,\n",
       "   'z': 3000,\n",
       "   'width': 160.9232658072437,\n",
       "   'height': 217.246408839779,\n",
       "   'displayState': {'mode': 0}}},\n",
       " {'name': '3cd09a20cb50f66bf227',\n",
       "  'title': 'Inbound Details',\n",
       "  'type': 'tableEx',\n",
       "  'layout': {'x': 190.09060773480664,\n",
       "   'y': 478.74671577655005,\n",
       "   'z': 1000,\n",
       "   'width': 1080.1974217311233,\n",
       "   'height': 226.29834254143645,\n",
       "   'displayState': {'mode': 0}}},\n",
       " {'name': 'b2057141b1228f3c8ab7',\n",
       "  'title': 'Inbound Report',\n",
       "  'type': 'tableEx',\n",
       "  'layout': {'x': 21.143243409328335,\n",
       "   'y': 77.5252258342039,\n",
       "   'z': 0,\n",
       "   'width': 1258.526393412401,\n",
       "   'height': 401.7216247772384,\n",
       "   'displayState': {'mode': 0}}}]"
      ]
     },
     "execution_count": 9,
     "metadata": {},
     "output_type": "execute_result"
    }
   ],
   "source": [
    "## Get the visuals names from a specific page, in this case I took the first page's name below:\n",
    "\n",
    "visuals = report.visuals_on_page('ReportSection')\n",
    "visual_name=visuals[0][\"name\"]\n",
    "visuals"
   ]
  },
  {
   "cell_type": "code",
   "execution_count": 10,
   "id": "512ca642",
   "metadata": {},
   "outputs": [
    {
     "ename": "Exception",
     "evalue": "{\"message\":\"ExportDataFailed\",\"detailedMessage\":\"Operation is allowed only on active page\",\"level\":3,\"technicalDetails\":{}}",
     "output_type": "error",
     "traceback": [
      "\u001b[1;31m-----------------\u001b[0m",
      "\u001b[1;31mException\u001b[0mTraceback (most recent call last)",
      "\u001b[1;32m~\\AppData\\Local\\Temp\\ipykernel_24532\\4178565502.py\u001b[0m in \u001b[0;36m<module>\u001b[1;34m\u001b[0m\n\u001b[0;32m      1\u001b[0m \u001b[1;31m## Export the data into a pandas df from the visual by stating the page name and the visual name in the parameters below:\u001b[0m\u001b[1;33m\u001b[0m\u001b[1;33m\u001b[0m\u001b[0m\n\u001b[0;32m      2\u001b[0m \u001b[1;33m\u001b[0m\u001b[0m\n\u001b[1;32m----> 3\u001b[1;33m \u001b[0mexported_data\u001b[0m \u001b[1;33m=\u001b[0m \u001b[0mreport\u001b[0m\u001b[1;33m.\u001b[0m\u001b[0mexport_visual_data\u001b[0m\u001b[1;33m(\u001b[0m\u001b[1;34m'ReportSection'\u001b[0m\u001b[1;33m,\u001b[0m \u001b[1;34m'b2057141b1228f3c8ab7'\u001b[0m\u001b[1;33m)\u001b[0m\u001b[1;33m\u001b[0m\u001b[1;33m\u001b[0m\u001b[0m\n\u001b[0m\u001b[0;32m      4\u001b[0m \u001b[0mexported_data\u001b[0m\u001b[1;33m=\u001b[0m\u001b[0mStringIO\u001b[0m\u001b[1;33m(\u001b[0m\u001b[0mexported_data\u001b[0m\u001b[1;33m)\u001b[0m\u001b[1;33m\u001b[0m\u001b[1;33m\u001b[0m\u001b[0m\n\u001b[0;32m      5\u001b[0m \u001b[0mdf\u001b[0m\u001b[1;33m=\u001b[0m\u001b[0mpd\u001b[0m\u001b[1;33m.\u001b[0m\u001b[0mread_csv\u001b[0m\u001b[1;33m(\u001b[0m\u001b[0mexported_data\u001b[0m\u001b[1;33m,\u001b[0m\u001b[0msep\u001b[0m\u001b[1;33m=\u001b[0m\u001b[1;34m','\u001b[0m\u001b[1;33m)\u001b[0m\u001b[1;33m\u001b[0m\u001b[1;33m\u001b[0m\u001b[0m\n",
      "\u001b[1;32m~\\Anaconda3\\lib\\site-packages\\powerbiclient\\report.py\u001b[0m in \u001b[0;36mexport_visual_data\u001b[1;34m(self, page_name, visual_name, rows, export_data_type)\u001b[0m\n\u001b[0;32m    402\u001b[0m             \u001b[0merror_message\u001b[0m \u001b[1;33m=\u001b[0m \u001b[0mself\u001b[0m\u001b[1;33m.\u001b[0m\u001b[0m_client_error\u001b[0m\u001b[1;33m\u001b[0m\u001b[1;33m\u001b[0m\u001b[0m\n\u001b[0;32m    403\u001b[0m             \u001b[0mself\u001b[0m\u001b[1;33m.\u001b[0m\u001b[0m_client_error\u001b[0m \u001b[1;33m=\u001b[0m \u001b[0mself\u001b[0m\u001b[1;33m.\u001b[0m\u001b[0mCLIENT_ERROR_DEFAULT_STATE\u001b[0m\u001b[1;33m\u001b[0m\u001b[1;33m\u001b[0m\u001b[0m\n\u001b[1;32m--> 404\u001b[1;33m             \u001b[1;32mraise\u001b[0m \u001b[0mException\u001b[0m\u001b[1;33m(\u001b[0m\u001b[0merror_message\u001b[0m\u001b[1;33m)\u001b[0m\u001b[1;33m\u001b[0m\u001b[1;33m\u001b[0m\u001b[0m\n\u001b[0m\u001b[0;32m    405\u001b[0m \u001b[1;33m\u001b[0m\u001b[0m\n\u001b[0;32m    406\u001b[0m         \u001b[1;32mreturn\u001b[0m \u001b[0mexported_data\u001b[0m\u001b[1;33m\u001b[0m\u001b[1;33m\u001b[0m\u001b[0m\n",
      "\u001b[1;31mException\u001b[0m: {\"message\":\"ExportDataFailed\",\"detailedMessage\":\"Operation is allowed only on active page\",\"level\":3,\"technicalDetails\":{}}"
     ]
    }
   ],
   "source": [
    "## Export the data into a pandas df from the visual by stating the page name and the visual name in the parameters below:\n",
    "\n",
    "exported_data = report.export_visual_data('ReportSection', 'b2057141b1228f3c8ab7')\n",
    "exported_data=StringIO(exported_data)\n",
    "df=pd.read_csv(exported_data,sep=',')\n",
    "df.transpose()"
   ]
  },
  {
   "cell_type": "code",
   "execution_count": 7,
   "id": "345dda9f",
   "metadata": {},
   "outputs": [
    {
     "name": "stdout",
     "output_type": "stream",
     "text": [
      "ERROR! Session/line number was not unique in database. History logging moved to new session 129\n"
     ]
    },
    {
     "ename": "NameError",
     "evalue": "name 'df' is not defined",
     "output_type": "error",
     "traceback": [
      "\u001b[1;31m-----------------\u001b[0m",
      "\u001b[1;31mNameError\u001b[0mTraceback (most recent call last)",
      "\u001b[1;32m~\\AppData\\Local\\Temp\\ipykernel_24532\\2616184260.py\u001b[0m in \u001b[0;36m<module>\u001b[1;34m\u001b[0m\n\u001b[1;32m----> 1\u001b[1;33m \u001b[0mdf\u001b[0m\u001b[1;33m.\u001b[0m\u001b[0mfillna\u001b[0m\u001b[1;33m(\u001b[0m\u001b[1;36m0\u001b[0m\u001b[1;33m)\u001b[0m\u001b[1;33m\u001b[0m\u001b[1;33m\u001b[0m\u001b[0m\n\u001b[0m\u001b[0;32m      2\u001b[0m \u001b[0mprint\u001b[0m\u001b[1;33m(\u001b[0m\u001b[0mdf\u001b[0m\u001b[1;33m.\u001b[0m\u001b[0mhead\u001b[0m\u001b[1;33m(\u001b[0m\u001b[1;36m5\u001b[0m\u001b[1;33m)\u001b[0m\u001b[1;33m)\u001b[0m\u001b[1;33m\u001b[0m\u001b[1;33m\u001b[0m\u001b[0m\n",
      "\u001b[1;31mNameError\u001b[0m: name 'df' is not defined"
     ]
    }
   ],
   "source": [
    "df.fillna(0)\n",
    "print(df.head(5))"
   ]
  },
  {
   "cell_type": "code",
   "execution_count": null,
   "id": "7f698885",
   "metadata": {},
   "outputs": [],
   "source": []
  }
 ],
 "metadata": {
  "kernelspec": {
   "display_name": "Python 3 (ipykernel)",
   "language": "python",
   "name": "python3"
  },
  "language_info": {
   "codemirror_mode": {
    "name": "ipython",
    "version": 3
   },
   "file_extension": ".py",
   "mimetype": "text/x-python",
   "name": "python",
   "nbconvert_exporter": "python",
   "pygments_lexer": "ipython3",
   "version": "3.9.13"
  }
 },
 "nbformat": 4,
 "nbformat_minor": 5
}
