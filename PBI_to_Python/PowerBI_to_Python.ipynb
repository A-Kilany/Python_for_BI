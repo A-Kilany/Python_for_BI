{
 "cells": [
  {
   "cell_type": "markdown",
   "id": "0a9f7a99",
   "metadata": {},
   "source": [
    "# Embedding Power BI in Jupyter Notebook"
   ]
  },
  {
   "cell_type": "markdown",
   "id": "abb3e329",
   "metadata": {},
   "source": [
    "### Importing Packages"
   ]
  },
  {
   "cell_type": "code",
   "execution_count": 2,
   "id": "feadeb96",
   "metadata": {},
   "outputs": [],
   "source": [
    "from powerbiclient import Report, models, authentication\n",
    "from io import StringIO\n",
    "from ipywidgets import interact\n",
    "from powerbiclient import QuickVisualize, get_dataset_config\n",
    "from powerbiclient.authentication import DeviceCodeLoginAuthentication\n",
    "from powerbiclient.authentication import InteractiveLoginAuthentication\n",
    "import pandas as pd\n",
    "import pymysql"
   ]
  },
  {
   "cell_type": "markdown",
   "id": "0d775254",
   "metadata": {},
   "source": [
    "### PBI Login Authentication"
   ]
  },
  {
   "cell_type": "code",
   "execution_count": 3,
   "id": "34098980",
   "metadata": {},
   "outputs": [
    {
     "name": "stdout",
     "output_type": "stream",
     "text": [
      "A local browser window will open for interactive sign in.\n",
      "\n",
      "Interactive authentication successfully completed.\n",
      "You are now logged in.\n",
      "\n",
      "The result should be passed only to trusted code in your notebook.\n"
     ]
    }
   ],
   "source": [
    "auth = authentication.InteractiveLoginAuthentication()\n",
    "\n",
    "### alternative authentication, if you want to get the access token:\n",
    "# device_auth = DeviceCodeLoginAuthentication()\n",
    "# access_token = device_auth.get_access_token()"
   ]
  },
  {
   "cell_type": "markdown",
   "id": "37037fae",
   "metadata": {},
   "source": [
    "### Choosing the report"
   ]
  },
  {
   "cell_type": "code",
   "execution_count": 4,
   "id": "65fd6f17",
   "metadata": {},
   "outputs": [],
   "source": [
    "## The group and report IDs below can be found from the URL of your Power BI report. Replace the values down below.\n",
    "\n",
    "group_id=\"<Your report's workspace ID>\"\n",
    "report_id=\"<Your report's ID>\"\n",
    "report = Report(report_id=report_id, group_id=group_id, auth=auth)"
   ]
  },
  {
   "cell_type": "code",
   "execution_count": 5,
   "id": "947a2fc4",
   "metadata": {
    "scrolled": true
   },
   "outputs": [
    {
     "data": {
      "application/vnd.jupyter.widget-view+json": {
       "model_id": "3e5f6cf93d994b5e9c867a5c35019634",
       "version_major": 2,
       "version_minor": 0
      },
      "text/plain": [
       "Report()"
      ]
     },
     "metadata": {},
     "output_type": "display_data"
    }
   ],
   "source": [
    "report"
   ]
  },
  {
   "cell_type": "markdown",
   "id": "1bfa44d5",
   "metadata": {},
   "source": [
    "### Getting data from the report"
   ]
  },
  {
   "cell_type": "code",
   "execution_count": 16,
   "id": "123dace3",
   "metadata": {},
   "outputs": [
    {
     "data": {
      "text/plain": [
       "[{'name': 'ReportSection7bb3ffd506071ce60c7e',\n",
       "  'displayName': 'Planung',\n",
       "  'isActive': True,\n",
       "  'visibility': 0,\n",
       "  'defaultSize': {'type': 0, 'width': 1280, 'height': 720},\n",
       "  'mobileSize': None,\n",
       "  'defaultDisplayOption': 0,\n",
       "  'background': {'color': '#FFFFFF', 'transparency': 0, 'hasImage': True},\n",
       "  'wallpaper': {'color': '#FFFFFF', 'transparency': 0, 'hasImage': False}},\n",
       " {'name': 'ReportSection378e1f23795ec688bd6f',\n",
       "  'displayName': 'HRL Bestand',\n",
       "  'isActive': False,\n",
       "  'visibility': 0,\n",
       "  'defaultSize': {'type': 0, 'width': 1280, 'height': 720},\n",
       "  'mobileSize': None,\n",
       "  'defaultDisplayOption': 0,\n",
       "  'background': None,\n",
       "  'wallpaper': None},\n",
       " {'name': 'ReportSectionb8d566340b4ccaca98bd',\n",
       "  'displayName': 'Prio im HRL',\n",
       "  'isActive': False,\n",
       "  'visibility': 0,\n",
       "  'defaultSize': {'type': 0, 'width': 1280, 'height': 720},\n",
       "  'mobileSize': None,\n",
       "  'defaultDisplayOption': 0,\n",
       "  'background': None,\n",
       "  'wallpaper': None},\n",
       " {'name': 'ReportSection',\n",
       "  'displayName': 'Inbound Report',\n",
       "  'isActive': False,\n",
       "  'visibility': 0,\n",
       "  'defaultSize': {'type': 0, 'width': 1280, 'height': 720},\n",
       "  'mobileSize': None,\n",
       "  'defaultDisplayOption': 0,\n",
       "  'background': None,\n",
       "  'wallpaper': None},\n",
       " {'name': 'ReportSectionbdac01be4be6665e3d72',\n",
       "  'displayName': 'Tooltip',\n",
       "  'isActive': False,\n",
       "  'visibility': 1,\n",
       "  'defaultSize': {'width': 320, 'height': 240},\n",
       "  'mobileSize': None,\n",
       "  'defaultDisplayOption': 2,\n",
       "  'background': None,\n",
       "  'wallpaper': None},\n",
       " {'name': 'ReportSection5715470c0b919ad35b74',\n",
       "  'displayName': 'Tooltip 2',\n",
       "  'isActive': False,\n",
       "  'visibility': 1,\n",
       "  'defaultSize': {'width': 320, 'height': 240},\n",
       "  'mobileSize': None,\n",
       "  'defaultDisplayOption': 2,\n",
       "  'background': None,\n",
       "  'wallpaper': None},\n",
       " {'name': 'ReportSection120f7e07cd56767d7bd0',\n",
       "  'displayName': 'Tooltip 3',\n",
       "  'isActive': False,\n",
       "  'visibility': 1,\n",
       "  'defaultSize': {'type': 4, 'width': 480, 'height': 320},\n",
       "  'mobileSize': None,\n",
       "  'defaultDisplayOption': 2,\n",
       "  'background': None,\n",
       "  'wallpaper': None},\n",
       " {'name': 'ReportSectiona0e7047feb08e03a5e05',\n",
       "  'displayName': 'Tooltip 4',\n",
       "  'isActive': False,\n",
       "  'visibility': 1,\n",
       "  'defaultSize': {'type': 4, 'width': 960, 'height': 320},\n",
       "  'mobileSize': None,\n",
       "  'defaultDisplayOption': 2,\n",
       "  'background': None,\n",
       "  'wallpaper': None}]"
      ]
     },
     "execution_count": 16,
     "metadata": {},
     "output_type": "execute_result"
    }
   ],
   "source": [
    "## Getting all pages from the report, both visible and hidden\n",
    "\n",
    "pages = report.get_pages()\n",
    "page_name=pages[0][\"name\"]\n",
    "pages"
   ]
  },
  {
   "cell_type": "code",
   "execution_count": 17,
   "id": "4f92c947",
   "metadata": {},
   "outputs": [
    {
     "data": {
      "text/plain": [
       "[{'name': '85a165f75ac662ea7326',\n",
       "  'title': 'Text box',\n",
       "  'type': 'textbox',\n",
       "  'layout': {'x': 26.428079834824498,\n",
       "   'y': 26.428079834824498,\n",
       "   'z': 1000,\n",
       "   'width': 270.44735030970406,\n",
       "   'height': 49.332415691672395,\n",
       "   'displayState': {'mode': 0}}},\n",
       " {'name': '631f9d940e1ec371d893',\n",
       "  'title': 'HRL Bestand',\n",
       "  'type': 'columnChart',\n",
       "  'layout': {'x': 71.00303951367782,\n",
       "   'y': 220.790273556231,\n",
       "   'z': 0,\n",
       "   'width': 534.9544072948329,\n",
       "   'height': 360.8510638297872,\n",
       "   'displayState': {'mode': 0}}},\n",
       " {'name': 'ceb74990330c26952672',\n",
       "  'title': 'Power Automate for Power BI',\n",
       "  'type': 'FlowVisual_C29F1DCC_81F5_4973_94AD_0517D44CC06A',\n",
       "  'layout': {'x': 1093.272437077962,\n",
       "   'y': 44.25389809699202,\n",
       "   'z': 2000,\n",
       "   'width': 133.76746470227133,\n",
       "   'height': 56.3231430325353,\n",
       "   'displayState': {'mode': 0}}},\n",
       " {'name': 'f04ecc1b1d4348c16be5',\n",
       "  'title': 'Text box',\n",
       "  'type': 'textbox',\n",
       "  'layout': {'x': 666.2613981762918,\n",
       "   'y': 220.790273556231,\n",
       "   'z': 5000,\n",
       "   'width': 344.3161094224924,\n",
       "   'height': 37.933130699088146,\n",
       "   'displayState': {'mode': 0}}},\n",
       " {'name': '695ebca2e62a1e0e35dc',\n",
       "  'title': 'Table',\n",
       "  'type': 'tableEx',\n",
       "  'layout': {'x': 666.2613981762918,\n",
       "   'y': 258.72340425531917,\n",
       "   'z': 4000,\n",
       "   'width': 517.4468085106383,\n",
       "   'height': 322.9179331306991,\n",
       "   'displayState': {'mode': 0}}},\n",
       " {'name': '9610a9848514232175d9',\n",
       "  'title': 'Card',\n",
       "  'type': 'card',\n",
       "  'layout': {'x': 798.1280110116999,\n",
       "   'y': 39.642119752236745,\n",
       "   'z': 3000,\n",
       "   'width': 231.68616655196143,\n",
       "   'height': 110.99793530626289,\n",
       "   'displayState': {'mode': 0}}}]"
      ]
     },
     "execution_count": 17,
     "metadata": {},
     "output_type": "execute_result"
    }
   ],
   "source": [
    "## Getting all the visuals from a specific page.\n",
    "## Copy the \"name\" field value of the page of choice from the results above to replace below as the page name.\n",
    "\n",
    "visuals = report.visuals_on_page('<page name>')\n",
    "visual_name=visuals[0][\"name\"]\n",
    "visuals"
   ]
  },
  {
   "cell_type": "code",
   "execution_count": 19,
   "id": "512ca642",
   "metadata": {},
   "outputs": [
    {
     "data": {
      "text/html": [
       "<div>\n",
       "<style scoped>\n",
       "    .dataframe tbody tr th:only-of-type {\n",
       "        vertical-align: middle;\n",
       "    }\n",
       "\n",
       "    .dataframe tbody tr th {\n",
       "        vertical-align: top;\n",
       "    }\n",
       "\n",
       "    .dataframe thead th {\n",
       "        text-align: right;\n",
       "    }\n",
       "</style>\n",
       "<table border=\"1\" class=\"dataframe\">\n",
       "  <thead>\n",
       "    <tr style=\"text-align: right;\">\n",
       "      <th></th>\n",
       "      <th>0</th>\n",
       "      <th>1</th>\n",
       "      <th>2</th>\n",
       "      <th>3</th>\n",
       "      <th>4</th>\n",
       "      <th>5</th>\n",
       "      <th>6</th>\n",
       "      <th>7</th>\n",
       "      <th>8</th>\n",
       "      <th>9</th>\n",
       "      <th>10</th>\n",
       "      <th>11</th>\n",
       "      <th>12</th>\n",
       "      <th>13</th>\n",
       "      <th>14</th>\n",
       "      <th>15</th>\n",
       "      <th>16</th>\n",
       "    </tr>\n",
       "  </thead>\n",
       "  <tbody>\n",
       "    <tr>\n",
       "      <th>Kalenderwoche</th>\n",
       "      <td>W09 2023</td>\n",
       "      <td>W10 2023</td>\n",
       "      <td>W11 2023</td>\n",
       "      <td>W12 2023</td>\n",
       "      <td>W13 2023</td>\n",
       "      <td>W14 2023</td>\n",
       "      <td>W15 2023</td>\n",
       "      <td>W16 2023</td>\n",
       "      <td>W17 2023</td>\n",
       "      <td>W18 2023</td>\n",
       "      <td>W19 2023</td>\n",
       "      <td>W20 2023</td>\n",
       "      <td>W21 2023</td>\n",
       "      <td>W22 2023</td>\n",
       "      <td>W23 2023</td>\n",
       "      <td>W24 2023</td>\n",
       "      <td>W25 2023</td>\n",
       "    </tr>\n",
       "    <tr>\n",
       "      <th>Anzahl Erhalten</th>\n",
       "      <td>11133</td>\n",
       "      <td>14899</td>\n",
       "      <td>13932</td>\n",
       "      <td>17400</td>\n",
       "      <td>16752</td>\n",
       "      <td>13268</td>\n",
       "      <td>15398</td>\n",
       "      <td>27266</td>\n",
       "      <td>40372</td>\n",
       "      <td>16639</td>\n",
       "      <td>28752</td>\n",
       "      <td>19246</td>\n",
       "      <td>20819</td>\n",
       "      <td>14333</td>\n",
       "      <td>9976</td>\n",
       "      <td>9261</td>\n",
       "      <td>861</td>\n",
       "    </tr>\n",
       "    <tr>\n",
       "      <th>Anzahl Unterwegs</th>\n",
       "      <td>461</td>\n",
       "      <td>1263</td>\n",
       "      <td>1575</td>\n",
       "      <td>1184</td>\n",
       "      <td>535</td>\n",
       "      <td>758</td>\n",
       "      <td>919</td>\n",
       "      <td>2542</td>\n",
       "      <td>4659</td>\n",
       "      <td>1634</td>\n",
       "      <td>3779</td>\n",
       "      <td>3009</td>\n",
       "      <td>2923</td>\n",
       "      <td>2665</td>\n",
       "      <td>3726</td>\n",
       "      <td>7076</td>\n",
       "      <td>8176</td>\n",
       "    </tr>\n",
       "  </tbody>\n",
       "</table>\n",
       "</div>"
      ],
      "text/plain": [
       "                        0         1         2         3         4         5   \\\n",
       "Kalenderwoche     W09 2023  W10 2023  W11 2023  W12 2023  W13 2023  W14 2023   \n",
       "Anzahl Erhalten      11133     14899     13932     17400     16752     13268   \n",
       "Anzahl Unterwegs       461      1263      1575      1184       535       758   \n",
       "\n",
       "                        6         7         8         9         10        11  \\\n",
       "Kalenderwoche     W15 2023  W16 2023  W17 2023  W18 2023  W19 2023  W20 2023   \n",
       "Anzahl Erhalten      15398     27266     40372     16639     28752     19246   \n",
       "Anzahl Unterwegs       919      2542      4659      1634      3779      3009   \n",
       "\n",
       "                        12        13        14        15        16  \n",
       "Kalenderwoche     W21 2023  W22 2023  W23 2023  W24 2023  W25 2023  \n",
       "Anzahl Erhalten      20819     14333      9976      9261       861  \n",
       "Anzahl Unterwegs      2923      2665      3726      7076      8176  "
      ]
     },
     "execution_count": 19,
     "metadata": {},
     "output_type": "execute_result"
    }
   ],
   "source": [
    "## Exporting the data into a pandas df from the visual, by stating the page name and the visual name in the parameters below:\n",
    "\n",
    "exported_data = report.export_visual_data('ReportSection7bb3ffd506071ce60c7e', '631f9d940e1ec371d893')\n",
    "exported_data=StringIO(exported_data)\n",
    "df=pd.read_csv(exported_data,sep=',')\n",
    "\n",
    "print(df.head(5))"
   ]
  }
 ],
 "metadata": {
  "kernelspec": {
   "display_name": "Python 3 (ipykernel)",
   "language": "python",
   "name": "python3"
  },
  "language_info": {
   "codemirror_mode": {
    "name": "ipython",
    "version": 3
   },
   "file_extension": ".py",
   "mimetype": "text/x-python",
   "name": "python",
   "nbconvert_exporter": "python",
   "pygments_lexer": "ipython3",
   "version": "3.9.13"
  }
 },
 "nbformat": 4,
 "nbformat_minor": 5
}
